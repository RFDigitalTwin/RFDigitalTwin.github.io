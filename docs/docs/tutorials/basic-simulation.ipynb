{
  "cells": [
    {
      "cell_type": "markdown",
      "metadata": {},
      "source": [
        "# Basic Simulation Tutorial - Interactive Notebook\n",
        "\n",
        "Welcome to the **WiTwin** basic simulation tutorial. This interactive notebook will guide you through creating your first wireless digital twin simulation.\n",
        "\n",
        "## Prerequisites\n",
        "\n",
        "Before starting, ensure you have:\n",
        "- Python 3.8 or higher installed\n",
        "- WiTwin package installed (`pip install witwin`)\n",
        "- Basic understanding of wireless communication concepts"
      ]
    },
    {
      "cell_type": "markdown",
      "metadata": {},
      "source": [
        "## Setting Up Your Environment\n",
        "\n",
        "First, let's import the necessary modules:"
      ]
    },
    {
      "cell_type": "code",
      "execution_count": null,
      "metadata": {},
      "outputs": [],
      "source": [
        "import witwin as wt\n",
        "import numpy as np\n",
        "import matplotlib.pyplot as plt\n",
        "\n",
        "# Set up the simulation environment\n",
        "env = wt.Environment(\n",
        "    frequency=60e9,  # 60 GHz mmWave\n",
        "    bandwidth=2e9,   # 2 GHz bandwidth\n",
        "    resolution=(1024, 1024)\n",
        ")\n",
        "\n",
        "print(\"Environment initialized successfully!\")\n",
        "print(f\"Frequency: {env.frequency/1e9:.1f} GHz\")\n",
        "print(f\"Bandwidth: {env.bandwidth/1e9:.1f} GHz\")\n",
        "print(f\"Resolution: {env.resolution}\")"
      ]
    },
    {
      "cell_type": "markdown",
      "metadata": {},
      "source": [
        "## Creating a Basic Scene\n",
        "\n",
        "Now, let's create a simple scene with a transmitter and receiver:"
      ]
    },
    {
      "cell_type": "code",
      "execution_count": null,
      "metadata": {},
      "outputs": [],
      "source": [
        "# Create transmitter\n",
        "tx = wt.Transmitter(\n",
        "    position=[0, 0, 2],\n",
        "    orientation=[0, 0, 0],\n",
        "    antenna_pattern='isotropic',\n",
        "    power_dbm=30\n",
        ")\n",
        "\n",
        "# Create receiver\n",
        "rx = wt.Receiver(\n",
        "    position=[10, 0, 2],\n",
        "    orientation=[180, 0, 0],\n",
        "    antenna_pattern='directional',\n",
        "    gain_dbi=20\n",
        ")\n",
        "\n",
        "# Add devices to environment\n",
        "env.add_device(tx)\n",
        "env.add_device(rx)\n",
        "\n",
        "print(f\"Transmitter added at position: {tx.position}\")\n",
        "print(f\"Receiver added at position: {rx.position}\")\n",
        "print(f\"Distance: {np.linalg.norm(np.array(tx.position) - np.array(rx.position)):.1f} m\")"
      ]
    },
    {
      "cell_type": "markdown",
      "metadata": {},
      "source": [
        "## Adding Environmental Objects\n",
        "\n",
        "Let's add some objects to create multipath effects:"
      ]
    },
    {
      "cell_type": "code",
      "execution_count": null,
      "metadata": {},
      "outputs": [],
      "source": [
        "# Add a metal reflector\n",
        "reflector = wt.Object(\n",
        "    shape='box',\n",
        "    dimensions=[5, 0.1, 3],\n",
        "    position=[5, 2, 1.5],\n",
        "    material='metal',\n",
        "    permittivity=1e6\n",
        ")\n",
        "\n",
        "# Add a dielectric wall\n",
        "wall = wt.Object(\n",
        "    shape='box',\n",
        "    dimensions=[0.3, 10, 3],\n",
        "    position=[7, 0, 1.5],\n",
        "    material='concrete',\n",
        "    permittivity=6.5\n",
        ")\n",
        "\n",
        "env.add_object(reflector)\n",
        "env.add_object(wall)\n",
        "\n",
        "print(f\"Added reflector: {reflector.material} at {reflector.position}\")\n",
        "print(f\"Added wall: {wall.material} at {wall.position}\")\n",
        "print(f\"Total objects in environment: {len(env.objects)}\")"
      ]
    },
    {
      "cell_type": "markdown",
      "metadata": {},
      "source": [
        "## Running the Simulation\n",
        "\n",
        "Now we can run the ray tracing simulation:"
      ]
    },
    {
      "cell_type": "code",
      "execution_count": null,
      "metadata": {},
      "outputs": [],
      "source": [
        "# Configure simulation parameters\n",
        "sim_config = wt.SimulationConfig(\n",
        "    max_reflections=3,\n",
        "    max_diffractions=1,\n",
        "    ray_spacing=0.1,\n",
        "    enable_doppler=True\n",
        ")\n",
        "\n",
        "print(\"Starting simulation...\")\n",
        "print(f\"Max reflections: {sim_config.max_reflections}\")\n",
        "print(f\"Max diffractions: {sim_config.max_diffractions}\")\n",
        "print(f\"Ray spacing: {sim_config.ray_spacing} m\")\n",
        "\n",
        "# Run simulation\n",
        "results = env.simulate(config=sim_config)\n",
        "\n",
        "print(\"\\nSimulation completed!\")\n",
        "print(f\"Total rays traced: {results.total_rays}\")\n",
        "print(f\"Computation time: {results.computation_time:.2f} seconds\")"
      ]
    },
    {
      "cell_type": "markdown",
      "metadata": {},
      "source": [
        "## Extracting Channel Information\n",
        "\n",
        "Let's extract and analyze the channel impulse response:"
      ]
    },
    {
      "cell_type": "code",
      "execution_count": null,
      "metadata": {},
      "outputs": [],
      "source": [
        "# Extract channel impulse response\n",
        "cir = results.get_channel_impulse_response(tx, rx)\n",
        "\n",
        "print(f\"Channel impulse response extracted:\")\n",
        "print(f\"Number of multipath components: {len(cir.delays)}\")\n",
        "print(f\"RMS delay spread: {cir.rms_delay_spread*1e9:.2f} ns\")\n",
        "print(f\"Mean excess delay: {cir.mean_excess_delay*1e9:.2f} ns\")\n",
        "print(f\"K-factor: {cir.k_factor:.2f} dB\")\n",
        "\n",
        "# Show strongest paths\n",
        "strongest_indices = np.argsort(np.abs(cir.amplitudes))[-5:][::-1]\n",
        "print(\"\\nStrongest 5 paths:\")\n",
        "for i, idx in enumerate(strongest_indices):\n",
        "    delay_ns = cir.delays[idx] * 1e9\n",
        "    power_db = 20 * np.log10(np.abs(cir.amplitudes[idx]))\n",
        "    print(f\"  {i+1}. Delay: {delay_ns:.2f} ns, Power: {power_db:.1f} dB\")"
      ]
    },
    {
      "cell_type": "markdown",
      "metadata": {},
      "source": [
        "## Visualizing Results\n",
        "\n",
        "Let's create comprehensive visualizations of the simulation results:"
      ]
    },
    {
      "cell_type": "code",
      "execution_count": null,
      "metadata": {},
      "outputs": [],
      "source": [
        "# Create comprehensive visualization\n",
        "fig, axes = plt.subplots(2, 2, figsize=(15, 12))\n",
        "\n",
        "# Plot 1: Channel Impulse Response\n",
        "axes[0, 0].stem(cir.delays * 1e9, 20 * np.log10(np.abs(cir.amplitudes)), basefmt=' ')\n",
        "axes[0, 0].set_xlabel('Delay (ns)')\n",
        "axes[0, 0].set_ylabel('Power (dB)')\n",
        "axes[0, 0].set_title('Channel Impulse Response')\n",
        "axes[0, 0].grid(True, alpha=0.3)\n",
        "\n",
        "# Plot 2: Power Delay Profile\n",
        "axes[0, 1].plot(cir.delays * 1e9, 20 * np.log10(np.abs(cir.amplitudes)), 'o-')\n",
        "axes[0, 1].set_xlabel('Delay (ns)')\n",
        "axes[0, 1].set_ylabel('Power (dB)')\n",
        "axes[0, 1].set_title('Power Delay Profile')\n",
        "axes[0, 1].grid(True, alpha=0.3)\n",
        "\n",
        "# Plot 3: Ray paths (top view)\n",
        "results.plot_rays_2d(tx, rx, ax=axes[1, 0], view='top')\n",
        "axes[1, 0].set_title('Ray Paths - Top View')\n",
        "axes[1, 0].set_aspect('equal')\n",
        "\n",
        "# Plot 4: Angle of arrival histogram\n",
        "aoa = results.get_angles_of_arrival(tx, rx)\n",
        "axes[1, 1].hist(aoa * 180 / np.pi, bins=30, alpha=0.7)\n",
        "axes[1, 1].set_xlabel('Angle of Arrival (degrees)')\n",
        "axes[1, 1].set_ylabel('Number of Rays')\n",
        "axes[1, 1].set_title('Angle of Arrival Distribution')\n",
        "axes[1, 1].grid(True, alpha=0.3)\n",
        "\n",
        "plt.tight_layout()\n",
        "plt.show()\n",
        "\n",
        "print(\"Visualization complete!\")"
      ]
    },
    {
      "cell_type": "markdown",
      "metadata": {},
      "source": [
        "## Performance Analysis\n",
        "\n",
        "Let's analyze the communication performance metrics:"
      ]
    },
    {
      "cell_type": "code",
      "execution_count": null,
      "metadata": {},
      "outputs": [],
      "source": [
        "# Calculate performance metrics\n",
        "path_loss = results.get_path_loss(tx, rx)\n",
        "snr = results.get_snr(tx, rx, noise_figure=5)  # 5 dB noise figure\n",
        "capacity = results.get_channel_capacity(tx, rx)\n",
        "coherence_bandwidth = results.get_coherence_bandwidth(tx, rx)\n",
        "\n",
        "print(\"Communication Performance Metrics:\")\n",
        "print(f\"Path Loss: {path_loss:.2f} dB\")\n",
        "print(f\"Signal-to-Noise Ratio: {snr:.2f} dB\")\n",
        "print(f\"Channel Capacity: {capacity/1e6:.2f} Mbps\")\n",
        "print(f\"Coherence Bandwidth: {coherence_bandwidth/1e6:.2f} MHz\")\n",
        "\n",
        "# Compare with free space path loss\n",
        "distance = np.linalg.norm(np.array(tx.position) - np.array(rx.position))\n",
        "free_space_loss = 20 * np.log10(distance) + 20 * np.log10(env.frequency) + 20 * np.log10(4 * np.pi / 3e8)\n",
        "excess_loss = path_loss - free_space_loss\n",
        "\n",
        "print(f\"\\nComparison with Free Space:\")\n",
        "print(f\"Free Space Path Loss: {free_space_loss:.2f} dB\")\n",
        "print(f\"Excess Loss due to Environment: {excess_loss:.2f} dB\")"
      ]
    },
    {
      "cell_type": "markdown",
      "metadata": {},
      "source": [
        "## Advanced Analysis: Frequency Response\n",
        "\n",
        "Let's examine the frequency response characteristics:"
      ]
    },
    {
      "cell_type": "code",
      "execution_count": null,
      "metadata": {},
      "outputs": [],
      "source": [
        "# Calculate frequency response\n",
        "frequencies = np.linspace(-env.bandwidth/2, env.bandwidth/2, 1024)\n",
        "freq_response = results.get_frequency_response(tx, rx, frequencies)\n",
        "\n",
        "# Plot magnitude and phase response\n",
        "fig, (ax1, ax2) = plt.subplots(2, 1, figsize=(12, 8))\n",
        "\n",
        "# Magnitude response\n",
        "ax1.plot(frequencies/1e6, 20 * np.log10(np.abs(freq_response)))\n",
        "ax1.set_xlabel('Frequency Offset (MHz)')\n",
        "ax1.set_ylabel('Magnitude (dB)')\n",
        "ax1.set_title('Channel Frequency Response - Magnitude')\n",
        "ax1.grid(True, alpha=0.3)\n",
        "\n",
        "# Phase response\n",
        "ax2.plot(frequencies/1e6, np.angle(freq_response) * 180 / np.pi)\n",
        "ax2.set_xlabel('Frequency Offset (MHz)')\n",
        "ax2.set_ylabel('Phase (degrees)')\n",
        "ax2.set_title('Channel Frequency Response - Phase')\n",
        "ax2.grid(True, alpha=0.3)\n",
        "\n",
        "plt.tight_layout()\n",
        "plt.show()\n",
        "\n",
        "# Calculate channel statistics\n",
        "channel_std = np.std(20 * np.log10(np.abs(freq_response)))\n",
        "coherence_bw = results.get_coherence_bandwidth(tx, rx, threshold=0.5)\n",
        "\n",
        "print(f\"Channel variability (std): {channel_std:.2f} dB\")\n",
        "print(f\"50% coherence bandwidth: {coherence_bw/1e6:.2f} MHz\")"
      ]
    },
    {
      "cell_type": "markdown",
      "metadata": {},
      "source": [
        "## Summary and Next Steps\n",
        "\n",
        "🎉 **Congratulations!** You've successfully completed the basic WiTwin simulation tutorial.\n",
        "\n",
        "### What you've learned:\n",
        "- ✅ Set up a WiTwin simulation environment\n",
        "- ✅ Created wireless devices (transmitter and receiver)\n",
        "- ✅ Added environmental objects with different materials\n",
        "- ✅ Configured and ran ray tracing simulations\n",
        "- ✅ Analyzed channel characteristics and performance metrics\n",
        "- ✅ Created comprehensive visualizations\n",
        "\n",
        "### Next Steps:\n",
        "1. **Advanced Tutorials**: Try the [Radar Configuration](/docs/tutorials/radar-configuration) tutorial\n",
        "2. **Dynamic Simulations**: Learn about time-varying scenarios\n",
        "3. **Optimization**: Explore differentiable simulation features\n",
        "4. **Custom Materials**: Define your own material properties\n",
        "\n",
        "### Resources:\n",
        "- 📚 [Full API Documentation](/docs/api)\n",
        "- 🎯 [Advanced Examples](/docs/advanced)\n",
        "- 💬 [Community Forum](https://forum.witwin.ai)\n",
        "- 🐛 [Report Issues](https://github.com/witwin/issues)\n",
        "\n",
        "Happy simulating! 🚀"
      ]
    },
    {
      "cell_type": "code",
      "execution_count": null,
      "metadata": {},
      "outputs": [],
      "source": [
        "# Final cleanup and environment summary\n",
        "print(\"Simulation Environment Summary:\")\n",
        "print(f\"Environment ID: {env.id}\")\n",
        "print(f\"Devices: {len(env.devices)}\")\n",
        "print(f\"Objects: {len(env.objects)}\")\n",
        "print(f\"Frequency: {env.frequency/1e9:.1f} GHz\")\n",
        "print(f\"Bandwidth: {env.bandwidth/1e9:.1f} GHz\")\n",
        "print(f\"Total simulation time: {results.computation_time:.2f} seconds\")\n",
        "print(\"\\nThank you for using WiTwin! 🎉\")"
      ]
    }
  ],
  "metadata": {
    "kernelspec": {
      "display_name": "Python 3",
      "language": "python",
      "name": "python3"
    },
    "language_info": {
      "codemirror_mode": {
        "name": "ipython",
        "version": 3
      },
      "file_extension": ".py",
      "mimetype": "text/x-python",
      "name": "python",
      "nbconvert_exporter": "python",
      "pygments_lexer": "ipython3",
      "version": "3.8.0"
    }
  },
  "nbformat": 4,
  "nbformat_minor": 4
}